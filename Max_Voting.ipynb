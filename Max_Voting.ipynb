{
  "nbformat": 4,
  "nbformat_minor": 0,
  "metadata": {
    "colab": {
      "name": "Max Voting.ipynb",
      "provenance": [],
      "mount_file_id": "1BWnvsIGYXBKUzzWCCusKorZpmCr5eDWu",
      "authorship_tag": "ABX9TyOpmiXw0oUg03Sqvw4sLFSg",
      "include_colab_link": true
    },
    "kernelspec": {
      "name": "python3",
      "display_name": "Python 3"
    },
    "accelerator": "GPU"
  },
  "cells": [
    {
      "cell_type": "markdown",
      "metadata": {
        "id": "view-in-github",
        "colab_type": "text"
      },
      "source": [
        "<a href=\"https://colab.research.google.com/github/eslamalaa10/emnist-letters/blob/master/Max_Voting.ipynb\" target=\"_parent\"><img src=\"https://colab.research.google.com/assets/colab-badge.svg\" alt=\"Open In Colab\"/></a>"
      ]
    },
    {
      "cell_type": "markdown",
      "metadata": {
        "id": "nHv3iuo7r6jr",
        "colab_type": "text"
      },
      "source": [
        "# **Prepare Data**"
      ]
    },
    {
      "cell_type": "code",
      "metadata": {
        "id": "M5qsaVeQS26O",
        "colab_type": "code",
        "colab": {}
      },
      "source": [
        "import pandas as pd\n",
        "import numpy as np\n",
        "\n",
        "\n",
        "from sklearn.metrics import accuracy_score\n",
        "\n",
        "data = pd.read_csv('/content/drive/My Drive/dataset/emnist-letters-train.csv')\n",
        "y_train=np.array(data.values[:,0])\n",
        "x_train=data.values[:,1:]\n",
        "\n",
        "data_test = pd.read_csv('/content/drive/My Drive/dataset/emnist-letters-test.csv')\n",
        "y_test=np.array(data_test.values[:,0])\n",
        "x_test=data_test.values[:,1:]"
      ],
      "execution_count": 0,
      "outputs": []
    },
    {
      "cell_type": "markdown",
      "metadata": {
        "id": "U9SCnqg0si39",
        "colab_type": "text"
      },
      "source": [
        "# **KNN**"
      ]
    },
    {
      "cell_type": "code",
      "metadata": {
        "id": "3Ty_w2_GsiWe",
        "colab_type": "code",
        "outputId": "109eee12-d7ac-41c6-f03a-ed92ea40e38d",
        "colab": {
          "base_uri": "https://localhost:8080/",
          "height": 51
        }
      },
      "source": [
        "from sklearn.linear_model import LogisticRegression\n",
        "from sklearn.neighbors import KNeighborsClassifier\n",
        "from sklearn.metrics import roc_curve, auc\n",
        "\n",
        "\n",
        "k=5\n",
        "\n",
        "\n",
        "model = KNeighborsClassifier(n_neighbors=k)\n",
        "\n",
        "print(\"Train model\")\n",
        "model.fit(x_train, y_train)\n",
        " \n",
        "knn_pred=model.predict(x_test)\n",
        "score = model.score(x_test, y_test)\n",
        "print(\"k=%d, accuracy=%.2f%%\" % (k, score * 100))\n",
        " "
      ],
      "execution_count": 0,
      "outputs": [
        {
          "output_type": "stream",
          "text": [
            "Train model\n",
            "k=5, accuracy=84.28%\n"
          ],
          "name": "stdout"
        }
      ]
    },
    {
      "cell_type": "markdown",
      "metadata": {
        "id": "OEzcqWktswV7",
        "colab_type": "text"
      },
      "source": [
        "# **RandomForest**"
      ]
    },
    {
      "cell_type": "code",
      "metadata": {
        "id": "PGy_Hi-AxqiL",
        "colab_type": "code",
        "outputId": "f3a0e3df-cf0f-481c-e658-a569d7b69e44",
        "colab": {
          "base_uri": "https://localhost:8080/",
          "height": 68
        }
      },
      "source": [
        "from sklearn.ensemble import RandomForestClassifier\n",
        "\n",
        "\n",
        "\n",
        "clf = RandomForestClassifier(n_estimators=100)\n",
        "\n",
        "\n",
        "print(\"Train model\")\n",
        "clf.fit(x_train, y_train)\n",
        "\n",
        "\n",
        "print(\"Compute predictions\")\n",
        "predicted = clf.predict(x_test)\n",
        "\n",
        "print(\"Accuracy: \", accuracy_score(y_test, predicted))"
      ],
      "execution_count": 0,
      "outputs": [
        {
          "output_type": "stream",
          "text": [
            "Train model\n",
            "Compute predictions\n",
            "Accuracy:  0.863369146563957\n"
          ],
          "name": "stdout"
        }
      ]
    },
    {
      "cell_type": "markdown",
      "metadata": {
        "id": "sj0079YJHMOq",
        "colab_type": "text"
      },
      "source": [
        "# **SVM**"
      ]
    },
    {
      "cell_type": "code",
      "metadata": {
        "id": "41g5J1hFHQ53",
        "colab_type": "code",
        "outputId": "b210c673-0396-4140-d8bd-a653c081556d",
        "colab": {
          "base_uri": "https://localhost:8080/",
          "height": 34
        }
      },
      "source": [
        "from sklearn.svm import SVC\n",
        "svm=SVC()\n",
        "svm.fit(x_train,y_train)\n",
        "svm_prediction=svm.predict(x_test)\n",
        "from sklearn.metrics import accuracy_score\n",
        "accuracy_score(y_test,svm_prediction)"
      ],
      "execution_count": 0,
      "outputs": [
        {
          "output_type": "execute_result",
          "data": {
            "text/plain": [
              "0.8898574227988377"
            ]
          },
          "metadata": {
            "tags": []
          },
          "execution_count": 3
        }
      ]
    },
    {
      "cell_type": "markdown",
      "metadata": {
        "id": "Kz6ItLbcwxh1",
        "colab_type": "text"
      },
      "source": [
        "# **Max Voting**"
      ]
    },
    {
      "cell_type": "code",
      "metadata": {
        "id": "PfEHYFoGw4iG",
        "colab_type": "code",
        "outputId": "4d637140-323b-4f87-bd28-f7c2cb7efaa7",
        "colab": {
          "base_uri": "https://localhost:8080/",
          "height": 34
        }
      },
      "source": [
        "from scipy import stats\n",
        "final_pred=np.array([])\n",
        "for i in range(0,len(x_test)):\n",
        "  final_pred= np.append(final_pred,stats.mode([knn_pred[i],predicted[i],svm_prediction[i]])[0][0])\n",
        "accuracy_score(y_test,final_pred)"
      ],
      "execution_count": 0,
      "outputs": [
        {
          "output_type": "execute_result",
          "data": {
            "text/plain": [
              "0.8813433340090546"
            ]
          },
          "metadata": {
            "tags": []
          },
          "execution_count": 33
        }
      ]
    },
    {
      "cell_type": "markdown",
      "metadata": {
        "id": "AlP0jO1924GD",
        "colab_type": "text"
      },
      "source": [
        "# **Cohen Kappa**"
      ]
    },
    {
      "cell_type": "code",
      "metadata": {
        "id": "b9eZgjYc2_EU",
        "colab_type": "code",
        "outputId": "08f7ce77-c1ee-4579-8a94-61424f4a6c62",
        "colab": {
          "base_uri": "https://localhost:8080/",
          "height": 34
        }
      },
      "source": [
        "from sklearn import metrics\n",
        "# knn\n",
        "print('knn cohen kappa = ',cohen_kappa_score(y_test, knn_pred))"
      ],
      "execution_count": 0,
      "outputs": [
        {
          "output_type": "stream",
          "text": [
            "knn cohen kappa =  0.8341495109188365\n"
          ],
          "name": "stdout"
        }
      ]
    },
    {
      "cell_type": "code",
      "metadata": {
        "id": "7xCF0AZy4qsx",
        "colab_type": "code",
        "outputId": "05ff5e43-0770-45ec-fc87-140773df69e6",
        "colab": {
          "base_uri": "https://localhost:8080/",
          "height": 34
        }
      },
      "source": [
        "# Random Forest\n",
        "print('Random Forest cohen kappa = ',cohen_kappa_score(y_test, predicted))"
      ],
      "execution_count": 0,
      "outputs": [
        {
          "output_type": "stream",
          "text": [
            "Random Forest cohen kappa =  0.8558167195543704\n"
          ],
          "name": "stdout"
        }
      ]
    },
    {
      "cell_type": "code",
      "metadata": {
        "id": "J7T-_MHc5A2O",
        "colab_type": "code",
        "outputId": "507a17e0-bc93-4908-e3d6-f3d351c41d7c",
        "colab": {
          "base_uri": "https://localhost:8080/",
          "height": 34
        }
      },
      "source": [
        "# svm\n",
        "print('svm cohen kappa = ',cohen_kappa_score(y_test, svm_prediction))"
      ],
      "execution_count": 0,
      "outputs": [
        {
          "output_type": "stream",
          "text": [
            "svm cohen kappa =  0.8837362183660017\n"
          ],
          "name": "stdout"
        }
      ]
    },
    {
      "cell_type": "code",
      "metadata": {
        "id": "G4g69nEn5Irq",
        "colab_type": "code",
        "outputId": "a11f95db-0e87-416d-a9e2-b5a95e26a445",
        "colab": {
          "base_uri": "https://localhost:8080/",
          "height": 34
        }
      },
      "source": [
        "# max voting\n",
        "print('max voting cohen kappa = ',cohen_kappa_score(y_test, final_pred))"
      ],
      "execution_count": 0,
      "outputs": [
        {
          "output_type": "stream",
          "text": [
            "max voting cohen kappa =  0.8747301444734937\n"
          ],
          "name": "stdout"
        }
      ]
    },
    {
      "cell_type": "markdown",
      "metadata": {
        "id": "MrM_v-IV7CKn",
        "colab_type": "text"
      },
      "source": [
        "# **f1**"
      ]
    },
    {
      "cell_type": "code",
      "metadata": {
        "id": "Tk5_CGNF7Kjo",
        "colab_type": "code",
        "outputId": "10cf0778-de60-49f0-c7fb-31216e4691c7",
        "colab": {
          "base_uri": "https://localhost:8080/",
          "height": 34
        }
      },
      "source": [
        "from sklearn.metrics import f1_score\n",
        "# knn\n",
        "print('knn f1 score = ',f1_score(y_test,knn_pred,average='micro'))"
      ],
      "execution_count": 0,
      "outputs": [
        {
          "output_type": "stream",
          "text": [
            "knn f1 score =  0.8428272180552739\n"
          ],
          "name": "stdout"
        }
      ]
    },
    {
      "cell_type": "code",
      "metadata": {
        "id": "NFGcYRIY8vv9",
        "colab_type": "code",
        "outputId": "98eb55d9-8719-44a0-b983-d4515f3f61f9",
        "colab": {
          "base_uri": "https://localhost:8080/",
          "height": 34
        }
      },
      "source": [
        "# Random Forest\n",
        "print('Random Forest f1 score = ',f1_score(y_test,predicted,average='micro'))"
      ],
      "execution_count": 0,
      "outputs": [
        {
          "output_type": "stream",
          "text": [
            "Random Forest f1 score =  0.863369146563957\n"
          ],
          "name": "stdout"
        }
      ]
    },
    {
      "cell_type": "code",
      "metadata": {
        "id": "FK7EmzkV89pG",
        "colab_type": "code",
        "outputId": "df544091-26cb-4424-bd2c-6339a05023e9",
        "colab": {
          "base_uri": "https://localhost:8080/",
          "height": 34
        }
      },
      "source": [
        "# svm\n",
        "print('svm f1 score = ',f1_score(y_test,svm_prediction,average='micro'))"
      ],
      "execution_count": 0,
      "outputs": [
        {
          "output_type": "stream",
          "text": [
            "svm f1 score =  0.8898574227988377\n"
          ],
          "name": "stdout"
        }
      ]
    },
    {
      "cell_type": "code",
      "metadata": {
        "id": "2TfhEJYK9FXI",
        "colab_type": "code",
        "outputId": "df2145f6-5248-43b7-f46b-1b2551a82e8e",
        "colab": {
          "base_uri": "https://localhost:8080/",
          "height": 34
        }
      },
      "source": [
        "# max voting\n",
        "print(' max voting f1 score = ',f1_score(y_test,svm_prediction,average='micro'))"
      ],
      "execution_count": 0,
      "outputs": [
        {
          "output_type": "stream",
          "text": [
            " max voting f1 score =  0.8898574227988377\n"
          ],
          "name": "stdout"
        }
      ]
    }
  ]
}